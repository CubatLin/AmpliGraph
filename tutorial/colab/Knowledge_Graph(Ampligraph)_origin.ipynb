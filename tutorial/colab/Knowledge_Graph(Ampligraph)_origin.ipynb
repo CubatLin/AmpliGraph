{
  "nbformat": 4,
  "nbformat_minor": 0,
  "metadata": {
    "colab": {
      "name": "Knowledge Graph(Ampligraph)_origin",
      "provenance": [],
      "collapsed_sections": [],
      "include_colab_link": true
    },
    "kernelspec": {
      "name": "python3",
      "display_name": "Python 3"
    },
    "accelerator": "GPU"
  },
  "cells": [
    {
      "cell_type": "markdown",
      "metadata": {
        "id": "view-in-github",
        "colab_type": "text"
      },
      "source": [
        "<a href=\"https://colab.research.google.com/github/CubatLin/AmpliGraph/blob/master/tutorial/colab/Knowledge_Graph(Ampligraph)_origin.ipynb\" target=\"_parent\"><img src=\"https://colab.research.google.com/assets/colab-badge.svg\" alt=\"Open In Colab\"/></a>"
      ]
    },
    {
      "cell_type": "code",
      "source": [
        "import pandas as pd\n",
        "import numpy as np\n",
        "import math\n",
        "import pprint\n",
        "import csv\n",
        "\n",
        "import matplotlib\n",
        "import matplotlib.pyplot as plt\n",
        "from matplotlib.font_manager import FontProperties\n",
        "import seaborn as sns\n",
        "\n",
        "from collections import defaultdict, deque\n",
        "from datetime import datetime, timedelta\n",
        "from tqdm import tqdm\n",
        "# from sklearn.utils import shuffle"
      ],
      "metadata": {
        "id": "M2f6XiqXtkdS"
      },
      "execution_count": 1,
      "outputs": []
    },
    {
      "cell_type": "code",
      "source": [
        "%tensorflow_version 1.x"
      ],
      "metadata": {
        "id": "BwQ1YvAJ3tyZ",
        "colab": {
          "base_uri": "https://localhost:8080/"
        },
        "outputId": "3e487ec3-0c88-4d53-fb39-1d562ea6b9eb"
      },
      "execution_count": 2,
      "outputs": [
        {
          "output_type": "stream",
          "name": "stdout",
          "text": [
            "TensorFlow 1.x selected.\n"
          ]
        }
      ]
    },
    {
      "cell_type": "code",
      "source": [
        "import tensorflow as tf \n",
        "\n",
        "print('TensorFlow  version: {}'.format(tf.__version__))\n",
        "\n",
        "# Get the GPU name\n",
        "device_name = tf.test.gpu_device_name()\n",
        "if device_name != '/device:GPU:0':\n",
        "  raise SystemError('GPU device not found')\n",
        "print('Found GPU at: {}'.format(device_name))"
      ],
      "metadata": {
        "id": "fZFWLZG63wgh",
        "colab": {
          "base_uri": "https://localhost:8080/"
        },
        "outputId": "6ab7ec68-be6f-4471-8112-9ec8513d2da3"
      },
      "execution_count": 3,
      "outputs": [
        {
          "output_type": "stream",
          "name": "stdout",
          "text": [
            "TensorFlow  version: 1.15.2\n",
            "Found GPU at: /device:GPU:0\n"
          ]
        }
      ]
    },
    {
      "cell_type": "code",
      "source": [
        "%%capture \n",
        "# Install AmpliGraph library\n",
        "! pip install ampligraph\n",
        "\n",
        "# Required to visualize embeddings with tensorboard projector, comment out if not required!\n",
        "! pip install --user tensorboard\n",
        "\n",
        "# Required to plot text on embedding clusters, comment out if not required!\n",
        "! pip install --user git+https://github.com/Phlya/adjustText"
      ],
      "metadata": {
        "id": "UwL6u4gX3yWQ"
      },
      "execution_count": 4,
      "outputs": []
    },
    {
      "cell_type": "markdown",
      "source": [
        "# Prepare Data\n",
        "* 三元組： Entity1 -> Relation -> Entity2"
      ],
      "metadata": {
        "id": "5uI0N6I8ru4s"
      }
    },
    {
      "cell_type": "code",
      "source": [
        "# Raw Data\n",
        "data = [\n",
        "    ['accountID1','buy','productID1'],\n",
        "    ['accountID1','buy','productID2'],\n",
        "    ['accountID1','buy','productID3'],\n",
        "    ['accountID1','buy','productID4'],\n",
        "    ['accountID1','buy','productID5'],\n",
        "    ['accountID2','buy','productID1'],\n",
        "    ['accountID2','buy','productID2'],\n",
        "    ['accountID2','buy','productID3'],\n",
        "    ['accountID3','buy','productID3'],\n",
        "    ['accountID3','buy','productID4'],\n",
        "    ['accountID3','buy','productID5'],\n",
        "    ['productID1','category','cloth'],\n",
        "    ['productID2','category','Pants'],\n",
        "    ['productID3','category','coat'],\n",
        "    ['productID4','category','ring'],\n",
        "    ['productID5','category','hat'],\n",
        "    ['productID6','category','cloth'],    # productID6是新商品\n",
        "  ]\n",
        "print(data[:3])"
      ],
      "metadata": {
        "id": "i3fIAjLXry5T",
        "colab": {
          "base_uri": "https://localhost:8080/"
        },
        "outputId": "d6955817-fbc5-41cd-eb34-c63485b514aa"
      },
      "execution_count": 5,
      "outputs": [
        {
          "output_type": "stream",
          "name": "stdout",
          "text": [
            "[['accountID1', 'buy', 'productID1'], ['accountID1', 'buy', 'productID2'], ['accountID1', 'buy', 'productID3']]\n"
          ]
        }
      ]
    },
    {
      "cell_type": "markdown",
      "source": [
        "## 建構圖譜 - 由頂至下\n"
      ],
      "metadata": {
        "id": "gR_NKHx5fBWJ"
      }
    },
    {
      "cell_type": "code",
      "source": [
        "kg_graph = defaultdict(lambda: defaultdict(set))\n",
        "for data_ in tqdm(data):\n",
        "    if data_[1] == 'buy':\n",
        "        kg_graph['root']['account'].add(data_[0])\n",
        "    kg_graph[str(data_[0])][str(data_[1])].add(str(data_[2]))\n",
        "\n",
        "kg_graph"
      ],
      "metadata": {
        "id": "U1qUsRqBt7lo",
        "colab": {
          "base_uri": "https://localhost:8080/"
        },
        "outputId": "fc80067e-7434-4831-992b-e48fd6530771"
      },
      "execution_count": 6,
      "outputs": [
        {
          "output_type": "stream",
          "name": "stderr",
          "text": [
            "100%|██████████| 17/17 [00:00<00:00, 87167.69it/s]\n"
          ]
        },
        {
          "output_type": "execute_result",
          "data": {
            "text/plain": [
              "defaultdict(<function __main__.<lambda>>,\n",
              "            {'accountID1': defaultdict(set,\n",
              "                         {'buy': {'productID1',\n",
              "                           'productID2',\n",
              "                           'productID3',\n",
              "                           'productID4',\n",
              "                           'productID5'}}),\n",
              "             'accountID2': defaultdict(set,\n",
              "                         {'buy': {'productID1', 'productID2', 'productID3'}}),\n",
              "             'accountID3': defaultdict(set,\n",
              "                         {'buy': {'productID3', 'productID4', 'productID5'}}),\n",
              "             'productID1': defaultdict(set, {'category': {'cloth'}}),\n",
              "             'productID2': defaultdict(set, {'category': {'Pants'}}),\n",
              "             'productID3': defaultdict(set, {'category': {'coat'}}),\n",
              "             'productID4': defaultdict(set, {'category': {'ring'}}),\n",
              "             'productID5': defaultdict(set, {'category': {'hat'}}),\n",
              "             'productID6': defaultdict(set, {'category': {'cloth'}}),\n",
              "             'root': defaultdict(set,\n",
              "                         {'account': {'accountID1',\n",
              "                           'accountID2',\n",
              "                           'accountID3'}})})"
            ]
          },
          "metadata": {},
          "execution_count": 6
        }
      ]
    },
    {
      "cell_type": "code",
      "source": [
        "# 將new product補指\n",
        "# Structure: kg_graph[Entity1][Relation].add(Entity2)\n",
        "\n",
        "# 新增一個虛擬節點Admin\n",
        "kg_graph['root']['account'].add('ADMIN')\n",
        "\n",
        "# 用Admin指向新商品\n",
        "kg_graph['ADMIN']['require'].add('productID6')\n",
        "\n",
        "\n",
        "kg_graph"
      ],
      "metadata": {
        "colab": {
          "base_uri": "https://localhost:8080/"
        },
        "id": "ebBpkxo6eILg",
        "outputId": "42eb642e-147e-4836-ee98-87a568321af8"
      },
      "execution_count": 8,
      "outputs": [
        {
          "output_type": "execute_result",
          "data": {
            "text/plain": [
              "defaultdict(<function __main__.<lambda>>,\n",
              "            {'ADMIN': defaultdict(set, {'require': {'productID6'}}),\n",
              "             'accountID1': defaultdict(set,\n",
              "                         {'buy': {'productID1',\n",
              "                           'productID2',\n",
              "                           'productID3',\n",
              "                           'productID4',\n",
              "                           'productID5'}}),\n",
              "             'accountID2': defaultdict(set,\n",
              "                         {'buy': {'productID1', 'productID2', 'productID3'}}),\n",
              "             'accountID3': defaultdict(set,\n",
              "                         {'buy': {'productID3', 'productID4', 'productID5'}}),\n",
              "             'productID1': defaultdict(set, {'category': {'cloth'}}),\n",
              "             'productID2': defaultdict(set, {'category': {'Pants'}}),\n",
              "             'productID3': defaultdict(set, {'category': {'coat'}}),\n",
              "             'productID4': defaultdict(set, {'category': {'ring'}}),\n",
              "             'productID5': defaultdict(set, {'category': {'hat'}}),\n",
              "             'productID6': defaultdict(set, {'category': {'cloth'}}),\n",
              "             'root': defaultdict(set,\n",
              "                         {'account': {'ADMIN',\n",
              "                           'accountID1',\n",
              "                           'accountID2',\n",
              "                           'accountID3'}})})"
            ]
          },
          "metadata": {},
          "execution_count": 8
        }
      ]
    },
    {
      "cell_type": "code",
      "source": [
        "# 基於路徑的推理\n",
        "for id_ in tqdm(kg_graph['root']['account']):\n",
        "    for product_ in kg_graph[id_]['buy']:\n",
        "        for category_ in kg_graph[product_]['category']:\n",
        "            kg_graph[id_]['require'].add(category_)\n",
        "\n",
        "kg_graph['accountID1']"
      ],
      "metadata": {
        "id": "zp67XPkVtBqM",
        "colab": {
          "base_uri": "https://localhost:8080/"
        },
        "outputId": "0c5d957f-e86d-4f21-bb54-ca1a8234a0ec"
      },
      "execution_count": 10,
      "outputs": [
        {
          "output_type": "stream",
          "name": "stderr",
          "text": [
            "100%|██████████| 4/4 [00:00<00:00, 34663.67it/s]\n"
          ]
        },
        {
          "output_type": "execute_result",
          "data": {
            "text/plain": [
              "defaultdict(set,\n",
              "            {'buy': {'productID1',\n",
              "              'productID2',\n",
              "              'productID3',\n",
              "              'productID4',\n",
              "              'productID5'},\n",
              "             'require': {'Pants', 'cloth', 'coat', 'hat', 'ring'}})"
            ]
          },
          "metadata": {},
          "execution_count": 10
        }
      ]
    },
    {
      "cell_type": "code",
      "source": [
        "# ‎Breadth-First Search write file\n",
        "with open(f\"./kg_data.csv\", 'w', encoding='utf-8', newline='') as csvfile:\n",
        "    writer = csv.DictWriter(csvfile, fieldnames=['Entity1', 'Relation', 'Entity2'])\n",
        "    writer.writeheader()\n",
        "\n",
        "    traversal = set()\n",
        "    RDF = deque()\n",
        "    RDF.append('root')\n",
        "    while len(RDF) != 0:\n",
        "        Entity1 = RDF.popleft()\n",
        "        for Relation in kg_graph[Entity1].keys():\n",
        "            for Entity2 in kg_graph[Entity1][Relation]:\n",
        "                if (Entity1, Relation, Entity2) in traversal: continue\n",
        "                traversal.add((Entity1, Relation, Entity2))\n",
        "                RDF.append(Entity2)\n",
        "                writer.writerow({\n",
        "                    'Entity1': Entity1,\n",
        "                    'Relation': Relation,\n",
        "                    'Entity2': Entity2\n",
        "                })"
      ],
      "metadata": {
        "id": "Svzg6LSltEAZ"
      },
      "execution_count": 11,
      "outputs": []
    },
    {
      "cell_type": "markdown",
      "source": [
        "# Knowledge Graph Model"
      ],
      "metadata": {
        "id": "XaYysDij3dIY"
      }
    },
    {
      "cell_type": "code",
      "source": [
        "import tensorflow as tf\n",
        "import ampligraph\n",
        "from ampligraph.evaluation import train_test_split_no_unseen, evaluate_performance, mr_score, mrr_score, hits_at_n_score\n",
        "from ampligraph.latent_features import TransE, ComplEx, HolE, DistMult, ConvE, ConvKB\n",
        "from ampligraph.utils import save_model, restore_model\n",
        "from sklearn.utils import shuffle\n",
        "\n",
        "print('Ampligraph version: {}'.format(ampligraph.__version__))"
      ],
      "metadata": {
        "id": "8EPzj_jF36AS",
        "colab": {
          "base_uri": "https://localhost:8080/"
        },
        "outputId": "12fd9458-0611-4bb1-a229-c17f99df6d0f"
      },
      "execution_count": 12,
      "outputs": [
        {
          "output_type": "stream",
          "name": "stdout",
          "text": [
            "Ampligraph version: 1.4.0\n"
          ]
        }
      ]
    },
    {
      "cell_type": "code",
      "source": [
        "kg_data = pd.read_csv('./kg_data.csv')\n",
        "kg_data"
      ],
      "metadata": {
        "id": "oret2jiYQiee",
        "colab": {
          "base_uri": "https://localhost:8080/",
          "height": 1000
        },
        "outputId": "1b27f996-41b8-47cb-93e4-df4674d080ba"
      },
      "execution_count": 14,
      "outputs": [
        {
          "output_type": "execute_result",
          "data": {
            "text/plain": [
              "       Entity1  Relation     Entity2\n",
              "0         root   account  accountID3\n",
              "1         root   account       ADMIN\n",
              "2         root   account  accountID2\n",
              "3         root   account  accountID1\n",
              "4   accountID3       buy  productID3\n",
              "5   accountID3       buy  productID5\n",
              "6   accountID3       buy  productID4\n",
              "7   accountID3   require        ring\n",
              "8   accountID3   require         hat\n",
              "9   accountID3   require        coat\n",
              "10       ADMIN   require  productID6\n",
              "11  accountID2       buy  productID2\n",
              "12  accountID2       buy  productID3\n",
              "13  accountID2       buy  productID1\n",
              "14  accountID2   require       cloth\n",
              "15  accountID2   require        coat\n",
              "16  accountID2   require       Pants\n",
              "17  accountID1       buy  productID2\n",
              "18  accountID1       buy  productID1\n",
              "19  accountID1       buy  productID3\n",
              "20  accountID1       buy  productID5\n",
              "21  accountID1       buy  productID4\n",
              "22  accountID1   require        ring\n",
              "23  accountID1   require       Pants\n",
              "24  accountID1   require        coat\n",
              "25  accountID1   require         hat\n",
              "26  accountID1   require       cloth\n",
              "27  productID3  category        coat\n",
              "28  productID5  category         hat\n",
              "29  productID4  category        ring\n",
              "30  productID6  category       cloth\n",
              "31  productID2  category       Pants\n",
              "32  productID1  category       cloth"
            ],
            "text/html": [
              "\n",
              "  <div id=\"df-b06d03c1-b0bf-4569-b4d8-48ba8d3ae710\">\n",
              "    <div class=\"colab-df-container\">\n",
              "      <div>\n",
              "<style scoped>\n",
              "    .dataframe tbody tr th:only-of-type {\n",
              "        vertical-align: middle;\n",
              "    }\n",
              "\n",
              "    .dataframe tbody tr th {\n",
              "        vertical-align: top;\n",
              "    }\n",
              "\n",
              "    .dataframe thead th {\n",
              "        text-align: right;\n",
              "    }\n",
              "</style>\n",
              "<table border=\"1\" class=\"dataframe\">\n",
              "  <thead>\n",
              "    <tr style=\"text-align: right;\">\n",
              "      <th></th>\n",
              "      <th>Entity1</th>\n",
              "      <th>Relation</th>\n",
              "      <th>Entity2</th>\n",
              "    </tr>\n",
              "  </thead>\n",
              "  <tbody>\n",
              "    <tr>\n",
              "      <th>0</th>\n",
              "      <td>root</td>\n",
              "      <td>account</td>\n",
              "      <td>accountID3</td>\n",
              "    </tr>\n",
              "    <tr>\n",
              "      <th>1</th>\n",
              "      <td>root</td>\n",
              "      <td>account</td>\n",
              "      <td>ADMIN</td>\n",
              "    </tr>\n",
              "    <tr>\n",
              "      <th>2</th>\n",
              "      <td>root</td>\n",
              "      <td>account</td>\n",
              "      <td>accountID2</td>\n",
              "    </tr>\n",
              "    <tr>\n",
              "      <th>3</th>\n",
              "      <td>root</td>\n",
              "      <td>account</td>\n",
              "      <td>accountID1</td>\n",
              "    </tr>\n",
              "    <tr>\n",
              "      <th>4</th>\n",
              "      <td>accountID3</td>\n",
              "      <td>buy</td>\n",
              "      <td>productID3</td>\n",
              "    </tr>\n",
              "    <tr>\n",
              "      <th>5</th>\n",
              "      <td>accountID3</td>\n",
              "      <td>buy</td>\n",
              "      <td>productID5</td>\n",
              "    </tr>\n",
              "    <tr>\n",
              "      <th>6</th>\n",
              "      <td>accountID3</td>\n",
              "      <td>buy</td>\n",
              "      <td>productID4</td>\n",
              "    </tr>\n",
              "    <tr>\n",
              "      <th>7</th>\n",
              "      <td>accountID3</td>\n",
              "      <td>require</td>\n",
              "      <td>ring</td>\n",
              "    </tr>\n",
              "    <tr>\n",
              "      <th>8</th>\n",
              "      <td>accountID3</td>\n",
              "      <td>require</td>\n",
              "      <td>hat</td>\n",
              "    </tr>\n",
              "    <tr>\n",
              "      <th>9</th>\n",
              "      <td>accountID3</td>\n",
              "      <td>require</td>\n",
              "      <td>coat</td>\n",
              "    </tr>\n",
              "    <tr>\n",
              "      <th>10</th>\n",
              "      <td>ADMIN</td>\n",
              "      <td>require</td>\n",
              "      <td>productID6</td>\n",
              "    </tr>\n",
              "    <tr>\n",
              "      <th>11</th>\n",
              "      <td>accountID2</td>\n",
              "      <td>buy</td>\n",
              "      <td>productID2</td>\n",
              "    </tr>\n",
              "    <tr>\n",
              "      <th>12</th>\n",
              "      <td>accountID2</td>\n",
              "      <td>buy</td>\n",
              "      <td>productID3</td>\n",
              "    </tr>\n",
              "    <tr>\n",
              "      <th>13</th>\n",
              "      <td>accountID2</td>\n",
              "      <td>buy</td>\n",
              "      <td>productID1</td>\n",
              "    </tr>\n",
              "    <tr>\n",
              "      <th>14</th>\n",
              "      <td>accountID2</td>\n",
              "      <td>require</td>\n",
              "      <td>cloth</td>\n",
              "    </tr>\n",
              "    <tr>\n",
              "      <th>15</th>\n",
              "      <td>accountID2</td>\n",
              "      <td>require</td>\n",
              "      <td>coat</td>\n",
              "    </tr>\n",
              "    <tr>\n",
              "      <th>16</th>\n",
              "      <td>accountID2</td>\n",
              "      <td>require</td>\n",
              "      <td>Pants</td>\n",
              "    </tr>\n",
              "    <tr>\n",
              "      <th>17</th>\n",
              "      <td>accountID1</td>\n",
              "      <td>buy</td>\n",
              "      <td>productID2</td>\n",
              "    </tr>\n",
              "    <tr>\n",
              "      <th>18</th>\n",
              "      <td>accountID1</td>\n",
              "      <td>buy</td>\n",
              "      <td>productID1</td>\n",
              "    </tr>\n",
              "    <tr>\n",
              "      <th>19</th>\n",
              "      <td>accountID1</td>\n",
              "      <td>buy</td>\n",
              "      <td>productID3</td>\n",
              "    </tr>\n",
              "    <tr>\n",
              "      <th>20</th>\n",
              "      <td>accountID1</td>\n",
              "      <td>buy</td>\n",
              "      <td>productID5</td>\n",
              "    </tr>\n",
              "    <tr>\n",
              "      <th>21</th>\n",
              "      <td>accountID1</td>\n",
              "      <td>buy</td>\n",
              "      <td>productID4</td>\n",
              "    </tr>\n",
              "    <tr>\n",
              "      <th>22</th>\n",
              "      <td>accountID1</td>\n",
              "      <td>require</td>\n",
              "      <td>ring</td>\n",
              "    </tr>\n",
              "    <tr>\n",
              "      <th>23</th>\n",
              "      <td>accountID1</td>\n",
              "      <td>require</td>\n",
              "      <td>Pants</td>\n",
              "    </tr>\n",
              "    <tr>\n",
              "      <th>24</th>\n",
              "      <td>accountID1</td>\n",
              "      <td>require</td>\n",
              "      <td>coat</td>\n",
              "    </tr>\n",
              "    <tr>\n",
              "      <th>25</th>\n",
              "      <td>accountID1</td>\n",
              "      <td>require</td>\n",
              "      <td>hat</td>\n",
              "    </tr>\n",
              "    <tr>\n",
              "      <th>26</th>\n",
              "      <td>accountID1</td>\n",
              "      <td>require</td>\n",
              "      <td>cloth</td>\n",
              "    </tr>\n",
              "    <tr>\n",
              "      <th>27</th>\n",
              "      <td>productID3</td>\n",
              "      <td>category</td>\n",
              "      <td>coat</td>\n",
              "    </tr>\n",
              "    <tr>\n",
              "      <th>28</th>\n",
              "      <td>productID5</td>\n",
              "      <td>category</td>\n",
              "      <td>hat</td>\n",
              "    </tr>\n",
              "    <tr>\n",
              "      <th>29</th>\n",
              "      <td>productID4</td>\n",
              "      <td>category</td>\n",
              "      <td>ring</td>\n",
              "    </tr>\n",
              "    <tr>\n",
              "      <th>30</th>\n",
              "      <td>productID6</td>\n",
              "      <td>category</td>\n",
              "      <td>cloth</td>\n",
              "    </tr>\n",
              "    <tr>\n",
              "      <th>31</th>\n",
              "      <td>productID2</td>\n",
              "      <td>category</td>\n",
              "      <td>Pants</td>\n",
              "    </tr>\n",
              "    <tr>\n",
              "      <th>32</th>\n",
              "      <td>productID1</td>\n",
              "      <td>category</td>\n",
              "      <td>cloth</td>\n",
              "    </tr>\n",
              "  </tbody>\n",
              "</table>\n",
              "</div>\n",
              "      <button class=\"colab-df-convert\" onclick=\"convertToInteractive('df-b06d03c1-b0bf-4569-b4d8-48ba8d3ae710')\"\n",
              "              title=\"Convert this dataframe to an interactive table.\"\n",
              "              style=\"display:none;\">\n",
              "        \n",
              "  <svg xmlns=\"http://www.w3.org/2000/svg\" height=\"24px\"viewBox=\"0 0 24 24\"\n",
              "       width=\"24px\">\n",
              "    <path d=\"M0 0h24v24H0V0z\" fill=\"none\"/>\n",
              "    <path d=\"M18.56 5.44l.94 2.06.94-2.06 2.06-.94-2.06-.94-.94-2.06-.94 2.06-2.06.94zm-11 1L8.5 8.5l.94-2.06 2.06-.94-2.06-.94L8.5 2.5l-.94 2.06-2.06.94zm10 10l.94 2.06.94-2.06 2.06-.94-2.06-.94-.94-2.06-.94 2.06-2.06.94z\"/><path d=\"M17.41 7.96l-1.37-1.37c-.4-.4-.92-.59-1.43-.59-.52 0-1.04.2-1.43.59L10.3 9.45l-7.72 7.72c-.78.78-.78 2.05 0 2.83L4 21.41c.39.39.9.59 1.41.59.51 0 1.02-.2 1.41-.59l7.78-7.78 2.81-2.81c.8-.78.8-2.07 0-2.86zM5.41 20L4 18.59l7.72-7.72 1.47 1.35L5.41 20z\"/>\n",
              "  </svg>\n",
              "      </button>\n",
              "      \n",
              "  <style>\n",
              "    .colab-df-container {\n",
              "      display:flex;\n",
              "      flex-wrap:wrap;\n",
              "      gap: 12px;\n",
              "    }\n",
              "\n",
              "    .colab-df-convert {\n",
              "      background-color: #E8F0FE;\n",
              "      border: none;\n",
              "      border-radius: 50%;\n",
              "      cursor: pointer;\n",
              "      display: none;\n",
              "      fill: #1967D2;\n",
              "      height: 32px;\n",
              "      padding: 0 0 0 0;\n",
              "      width: 32px;\n",
              "    }\n",
              "\n",
              "    .colab-df-convert:hover {\n",
              "      background-color: #E2EBFA;\n",
              "      box-shadow: 0px 1px 2px rgba(60, 64, 67, 0.3), 0px 1px 3px 1px rgba(60, 64, 67, 0.15);\n",
              "      fill: #174EA6;\n",
              "    }\n",
              "\n",
              "    [theme=dark] .colab-df-convert {\n",
              "      background-color: #3B4455;\n",
              "      fill: #D2E3FC;\n",
              "    }\n",
              "\n",
              "    [theme=dark] .colab-df-convert:hover {\n",
              "      background-color: #434B5C;\n",
              "      box-shadow: 0px 1px 3px 1px rgba(0, 0, 0, 0.15);\n",
              "      filter: drop-shadow(0px 1px 2px rgba(0, 0, 0, 0.3));\n",
              "      fill: #FFFFFF;\n",
              "    }\n",
              "  </style>\n",
              "\n",
              "      <script>\n",
              "        const buttonEl =\n",
              "          document.querySelector('#df-b06d03c1-b0bf-4569-b4d8-48ba8d3ae710 button.colab-df-convert');\n",
              "        buttonEl.style.display =\n",
              "          google.colab.kernel.accessAllowed ? 'block' : 'none';\n",
              "\n",
              "        async function convertToInteractive(key) {\n",
              "          const element = document.querySelector('#df-b06d03c1-b0bf-4569-b4d8-48ba8d3ae710');\n",
              "          const dataTable =\n",
              "            await google.colab.kernel.invokeFunction('convertToInteractive',\n",
              "                                                     [key], {});\n",
              "          if (!dataTable) return;\n",
              "\n",
              "          const docLinkHtml = 'Like what you see? Visit the ' +\n",
              "            '<a target=\"_blank\" href=https://colab.research.google.com/notebooks/data_table.ipynb>data table notebook</a>'\n",
              "            + ' to learn more about interactive tables.';\n",
              "          element.innerHTML = '';\n",
              "          dataTable['output_type'] = 'display_data';\n",
              "          await google.colab.output.renderOutput(dataTable, element);\n",
              "          const docLink = document.createElement('div');\n",
              "          docLink.innerHTML = docLinkHtml;\n",
              "          element.appendChild(docLink);\n",
              "        }\n",
              "      </script>\n",
              "    </div>\n",
              "  </div>\n",
              "  "
            ]
          },
          "metadata": {},
          "execution_count": 14
        }
      ]
    },
    {
      "cell_type": "code",
      "source": [
        "# KG model training\n",
        "model = ComplEx(\n",
        "            batches_count=2, seed=17, epochs=100, k=50, eta=2,\n",
        "            loss='multiclass_nll', loss_params={'margin': 1},\n",
        "            optimizer = 'sgd', optimizer_params = {'lr': 3e-2, 'end_lr': 5e-5, 'decay_cycle': 30, 'decay_lr_rate': 1.5},\n",
        "            regularizer = 'LP', regularizer_params={'p': 3, 'lambda':0.01},\n",
        "            verbose = True\n",
        "        )\n",
        "\n",
        "model.fit(kg_data.to_numpy())\n",
        "\n",
        "save_model(model, 'ComplEx.pkl')"
      ],
      "metadata": {
        "id": "aIslSIGJ4iBZ",
        "colab": {
          "base_uri": "https://localhost:8080/"
        },
        "outputId": "f6d3b0c4-aa78-46d7-e9f1-b9f57a9c4d98"
      },
      "execution_count": 15,
      "outputs": [
        {
          "output_type": "stream",
          "name": "stderr",
          "text": [
            "Average ComplEx Loss:   0.487536: 100%|██████████| 100/100 [00:01<00:00, 72.00epoch/s]\n"
          ]
        }
      ]
    },
    {
      "cell_type": "markdown",
      "source": [
        "### Predict"
      ],
      "metadata": {
        "id": "wiOljumyg6s1"
      }
    },
    {
      "cell_type": "code",
      "source": [
        "# 人的需求分數\n",
        "person_category_triples = [ \n",
        "      ['accountID2' for _ in range(5)],\n",
        "      ['require' for _ in range(5)],\n",
        "      ['cloth', 'Pants', 'coat', 'ring', 'hat']\n",
        "  ]\n",
        "hypothesis = np.column_stack(person_category_triples)\n",
        "# print(hypothesis)\n",
        "\n",
        "triple_score = model.predict(hypothesis)\n",
        "print('Triple of interest:\\n', hypothesis)\n",
        "print('Triple Score:\\n', triple_score)"
      ],
      "metadata": {
        "id": "0uRd-8De9xkt",
        "colab": {
          "base_uri": "https://localhost:8080/"
        },
        "outputId": "a7cd31cb-8fb6-4984-c11c-8922dc780170"
      },
      "execution_count": 16,
      "outputs": [
        {
          "output_type": "stream",
          "name": "stdout",
          "text": [
            "Triple of interest:\n",
            " [['accountID2' 'require' 'cloth']\n",
            " ['accountID2' 'require' 'Pants']\n",
            " ['accountID2' 'require' 'coat']\n",
            " ['accountID2' 'require' 'ring']\n",
            " ['accountID2' 'require' 'hat']]\n",
            "Triple Score:\n",
            " [1.3119171  1.260953   1.8278064  0.47276193 0.62391555]\n"
          ]
        }
      ]
    },
    {
      "cell_type": "code",
      "source": [
        "# 商品的類別分數\n",
        "product_category_triples = [ \n",
        "      ['productID6' for _ in range(5)],\n",
        "      ['category' for _ in range(5)],\n",
        "      ['cloth', 'Pants', 'coat', 'ring', 'hat']\n",
        "  ]\n",
        "hypothesis = np.column_stack(product_category_triples)\n",
        "# print(hypothesis)\n",
        "\n",
        "triple_score = model.predict(hypothesis)\n",
        "print('Triple of interest:\\n', hypothesis)\n",
        "print('Triple Score:\\n', triple_score)"
      ],
      "metadata": {
        "id": "l5UoqHYS_3zo",
        "colab": {
          "base_uri": "https://localhost:8080/"
        },
        "outputId": "59da422f-b80c-47da-e81a-fc0fcb381034"
      },
      "execution_count": 17,
      "outputs": [
        {
          "output_type": "stream",
          "name": "stdout",
          "text": [
            "Triple of interest:\n",
            " [['productID6' 'category' 'cloth']\n",
            " ['productID6' 'category' 'Pants']\n",
            " ['productID6' 'category' 'coat']\n",
            " ['productID6' 'category' 'ring']\n",
            " ['productID6' 'category' 'hat']]\n",
            "Triple Score:\n",
            " [ 0.4152273   0.06696012  0.10539234 -0.16441408 -0.06525166]\n"
          ]
        }
      ]
    },
    {
      "cell_type": "code",
      "source": [
        "# 人對新商品的喜好分數\n",
        "person_product_triples = [ \n",
        "      ['accountID1','accountID2','accountID3'],\n",
        "      ['buy','buy','buy'],\n",
        "      ['productID6','productID6','productID6']\n",
        "  ]\n",
        "hypothesis = np.column_stack(person_product_triples)\n",
        "# print(hypothesis)\n",
        "\n",
        "triple_score = model.predict(hypothesis)\n",
        "print('Triple of interest:\\n', hypothesis)\n",
        "print('Triple Score:\\n', triple_score)"
      ],
      "metadata": {
        "id": "8Gco4C-lAJB1",
        "colab": {
          "base_uri": "https://localhost:8080/"
        },
        "outputId": "fd60590d-4152-410d-c5e9-6351ec1a54ee"
      },
      "execution_count": 18,
      "outputs": [
        {
          "output_type": "stream",
          "name": "stdout",
          "text": [
            "Triple of interest:\n",
            " [['accountID1' 'buy' 'productID6']\n",
            " ['accountID2' 'buy' 'productID6']\n",
            " ['accountID3' 'buy' 'productID6']]\n",
            "Triple Score:\n",
            " [-0.00426271  0.26214337 -0.19675344]\n"
          ]
        }
      ]
    },
    {
      "cell_type": "code",
      "source": [
        "# from ampligraph.utils import create_tensorboard_visualizations\n",
        "\n",
        "# model = restore_model('ComplEx.pkl')\n",
        "\n",
        "# create_tensorboard_visualizations(model, 'embeddings_model')\n",
        "\n",
        "# Only run if using jupyter notebook \n",
        "# ! tensorboard --logdir='./embeddings_model'"
      ],
      "metadata": {
        "id": "nOu3UhB6UTND"
      },
      "execution_count": null,
      "outputs": []
    },
    {
      "cell_type": "markdown",
      "source": [
        "# Visualizing"
      ],
      "metadata": {
        "id": "YbatdeMQYax9"
      }
    },
    {
      "cell_type": "code",
      "source": [
        "# 列舉所有 account - category 分數\n",
        "person_category_triples = []\n",
        "for account_ in ['accountID1','accountID2','accountID3']:\n",
        "    for category_ in ['cloth', 'Pants', 'coat', 'ring', 'hat']:\n",
        "        person_category_triples.append([account_, 'require', category_])\n",
        "\n",
        "person_category_scores = model.predict(person_category_triples)\n",
        "for ind_ in range(len(person_category_scores)):\n",
        "  if person_category_scores[ind_] < 0: person_category_scores[ind_] = 0\n",
        "\n",
        "print(person_category_scores)\n",
        "\n",
        "# 建構雷達圖需要的資料格式\n",
        "radar_dict = defaultdict(list)\n",
        "radar_dict['group'] = ['accountID1','accountID2','accountID3']\n",
        "for ind_, triple_ in enumerate(person_category_triples):\n",
        "    category_ = triple_[2]\n",
        "    radar_dict[category_].append(person_category_scores[ind_])\n",
        "\n",
        "df = pd.DataFrame(radar_dict)\n",
        "\n",
        "print(df)"
      ],
      "metadata": {
        "id": "rl1DV7IqZ6NI",
        "colab": {
          "base_uri": "https://localhost:8080/"
        },
        "outputId": "57ad3284-e0c7-4f8a-8332-2cd3e31ccf89"
      },
      "execution_count": 19,
      "outputs": [
        {
          "output_type": "stream",
          "name": "stdout",
          "text": [
            "[1.0236182  1.0906434  2.2574952  1.507067   1.5442195  1.3119171\n",
            " 1.260953   1.8278064  0.47276193 0.62391555 0.27480343 0.26261404\n",
            " 1.4844049  1.3051232  1.243792  ]\n",
            "        group     cloth     Pants      coat      ring       hat\n",
            "0  accountID1  1.023618  1.090643  2.257495  1.507067  1.544219\n",
            "1  accountID2  1.311917  1.260953  1.827806  0.472762  0.623916\n",
            "2  accountID3  0.274803  0.262614  1.484405  1.305123  1.243792\n"
          ]
        }
      ]
    },
    {
      "cell_type": "code",
      "source": [
        "# ------- PART 1: Create background\n",
        " \n",
        "# number of variable\n",
        "categories=list(df)[1:]\n",
        "category_num = df.shape[1] - 1\n",
        " \n",
        "# What will be the angle of each axis in the plot? (we divide the plot / number of variable)\n",
        "angles = [n / float(category_num) * 2 * math.pi for n in range(category_num)]\n",
        "angles += angles[:1]\n",
        " \n",
        "# Initialise the spider plot\n",
        "ax = plt.subplot(111, polar=True)\n",
        " \n",
        "# If you want the first axis to be on top:\n",
        "ax.set_theta_offset(math.pi / 2)\n",
        "ax.set_theta_direction(-1)\n",
        " \n",
        "# Draw one axe per variable + add labels\n",
        "plt.xticks(angles[:-1], categories)\n",
        " \n",
        "# Draw ylabels\n",
        "ax.set_rlabel_position(0)\n",
        "plt.yticks([1,2,3], [\"1\",\"2\",\"3\"], color=\"grey\", size=7)\n",
        "plt.ylim(0,int(max(person_category_scores)) +1)\n",
        "\n",
        "# ------- PART 2: Add plots\n",
        " \n",
        "# Plot each individual = each line of the data\n",
        "# I don't make a loop, because plotting more than 3 groups makes the chart unreadable\n",
        " \n",
        "# Ind1\n",
        "values=df.loc[0].drop('group').values.flatten().tolist()\n",
        "values += values[:1]\n",
        "ax.plot(angles, values, linewidth=1, linestyle='solid', label=\"group A\")\n",
        "ax.fill(angles, values, 'b', alpha=0.1)\n",
        " \n",
        "# Ind2\n",
        "values=df.loc[1].drop('group').values.flatten().tolist()\n",
        "values += values[:1]\n",
        "ax.plot(angles, values, linewidth=1, linestyle='solid', label=\"group B\")\n",
        "ax.fill(angles, values, 'r', alpha=0.1)\n",
        " \n",
        "# Ind2\n",
        "values=df.loc[2].drop('group').values.flatten().tolist()\n",
        "values += values[:1]\n",
        "ax.plot(angles, values, linewidth=1, linestyle='solid', label=\"group B\")\n",
        "ax.fill(angles, values, 'g', alpha=0.1)\n",
        " \n",
        "# Add legend\n",
        "plt.legend(loc='upper right', bbox_to_anchor=(0.1, 0.1))\n",
        "\n",
        "# Show the graph\n",
        "plt.show()"
      ],
      "metadata": {
        "id": "9i8ppuQIe0X9",
        "colab": {
          "base_uri": "https://localhost:8080/",
          "height": 299
        },
        "outputId": "6cd3c357-7c64-48c1-e8fa-5b714e26b735"
      },
      "execution_count": 20,
      "outputs": [
        {
          "output_type": "display_data",
          "data": {
            "text/plain": [
              "<Figure size 432x288 with 1 Axes>"
            ],
            "image/png": "[encoded data removed]"
          },
          "metadata": {}
        }
      ]
    }
  ]
}